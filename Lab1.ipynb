{
 "cells": [
  {
   "cell_type": "markdown",
   "metadata": {},
   "source": [
    "### $\\color{LightBlue}{\\text{Imports Needed}}$"
   ]
  },
  {
   "cell_type": "code",
   "execution_count": 67,
   "metadata": {},
   "outputs": [],
   "source": [
    "import pandas as pd\n",
    "import numpy as np\n",
    "import matplotlib.pyplot as plt\n",
    "import os\n",
    "import pickle"
   ]
  },
  {
   "cell_type": "markdown",
   "metadata": {},
   "source": [
    "### $\\color{LightBlue}{\\text{File Input Handling}}$"
   ]
  },
  {
   "cell_type": "code",
   "execution_count": 68,
   "metadata": {},
   "outputs": [],
   "source": [
    "#Files for the data to import\n",
    "Acc_files = ['Data/Acc_Circle_1.csv', 'Data/Acc_Circle_2.csv', 'Data/Acc_Circle_3.csv', 'Data/Acc_Stand_1.csv',\n",
    "            'Data/Acc_Stand_2.csv','Data/Acc_Stand_3.csv', 'Data/Acc_Down_1.csv', 'Data/Acc_Down_2.csv', 'Data/Acc_Down_3.csv']\n",
    "Gscope_files = ['Data/Gscope_Circle_1.csv', 'Data/Gscope_Circle_2.csv', 'Data/Gscope_Circle_3.csv', 'Data/Gscope_Stand_1.csv',\n",
    "            'Data/Gscope_Stand_2.csv','Data/Gscope_Stand_3.csv', 'Data/Gscope_Down_1.csv', 'Data/Gscope_Down_2.csv', 'Data/Gscope_Down_3.csv']\n",
    "\n",
    "#Empty list to append the data into\n",
    "Acc_dataframes = []\n",
    "Gscope_dataframes = []\n",
    "\n",
    "#Loop over every file and add it to the list for Accelerometer and Gscope\n",
    "for file in Acc_files:\n",
    "    Acc_dataframes.append(pd.read_csv(file, usecols=[1,2,3], names=['ax', 'ay', 'az'], skiprows=[0]))\n",
    "\n",
    "for file in Gscope_files:\n",
    "    Gscope_dataframes.append(pd.read_csv(file, usecols=[1,2,3], names=['gx', 'gy', 'gz'], skiprows=[0]))"
   ]
  },
  {
   "cell_type": "markdown",
   "metadata": {},
   "source": [
    "### $\\color{LightBlue}{\\text{Plotting the Accelerometer Data}}$"
   ]
  },
  {
   "cell_type": "code",
   "execution_count": null,
   "metadata": {},
   "outputs": [],
   "source": [
    "# Iterate over every file and plot the graph for it\n",
    "for i, acc_data in enumerate(Acc_dataframes):\n",
    "    filename = os.path.basename(Acc_files[i]) # Get the file name\n",
    "    measurement_type = filename.split('_')[1]\n",
    "    title = f\"Accelerometer Data - {measurement_type} Recording {i % 3 + 1}\" # Fix title for the graph\n",
    "    acc_data.plot(subplots=True, title=title, xlabel=\"Samples\", ylabel=\"Acceleration (g)\")\n",
    "    plt.show()"
   ]
  },
  {
   "cell_type": "markdown",
   "metadata": {},
   "source": [
    "### $\\color{LightBlue}{\\text{Plotting The Gyroscope Data}}$"
   ]
  },
  {
   "cell_type": "code",
   "execution_count": null,
   "metadata": {},
   "outputs": [],
   "source": [
    "# Iterate over every file and plot the graph for it\n",
    "for i, gscope_data in enumerate(Gscope_dataframes):\n",
    "    filename = os.path.basename(Gscope_files[i]) # Get the file name\n",
    "    measurement_type = filename.split('_')[1]\n",
    "    title = f\"Gyroscope Data - {measurement_type} Recording {i % 3 + 1}\" # Fix title for the graph\n",
    "    gscope_data.plot(subplots=True, title=title, xlabel=\"Samples\", ylabel=\"Rotation\")\n",
    "    plt.show()"
   ]
  },
  {
   "cell_type": "markdown",
   "metadata": {},
   "source": [
    "# Questions to Answer:"
   ]
  },
  {
   "cell_type": "markdown",
   "metadata": {},
   "source": [
    "### $\\color{Orange}{\\text{What are we measuring with the Accelerometer?}}$\n",
    "The accelerometer measures the vibration and motion of a structure."
   ]
  },
  {
   "cell_type": "markdown",
   "metadata": {},
   "source": [
    "### $\\color{Orange}{\\text{What are we measuring the with Gyroscope?}}$\n",
    "The gyroscope measures rotational motion."
   ]
  },
  {
   "cell_type": "markdown",
   "metadata": {},
   "source": [
    "### $\\color{Orange}{\\text{By looking at the plots can you see the difference between the the three classes?}}$"
   ]
  },
  {
   "cell_type": "markdown",
   "metadata": {},
   "source": [
    "### Accelerometer:\n",
    "Moving in a Circle: The phone was layed flat on the table and rotated around the Z-axis, the accelerometer detected movement on the X and Y axes but not on the Z since there is no movement on the Z axis.\n",
    "\n",
    "Standing Up: The phone was placed vertically standing up. The accelerometer didn't detect much movement on the X and Z axes, but movement on the Y-Axis was detected.\n",
    "\n",
    "Laying Down: The phone was layed down on its back on the table, small movement was detected due to small vibrations and movements around the phone.\n",
    "\n",
    "\n",
    "### Gyroscope:\n",
    "Moving in a Circle: The experiment was the same as the accelerometer. The gyroscope detected most of the rotations on the Z-axis but not much on the X and Y axes.\n",
    "\n",
    "Standing Up: No rotation on all axes.\n",
    "\n",
    "Laying Down: No rotation on all axes.\n"
   ]
  },
  {
   "cell_type": "markdown",
   "metadata": {},
   "source": [
    "### $\\color{LightBlue}{\\text{Saving the data to their respective folders}}$"
   ]
  },
  {
   "cell_type": "code",
   "execution_count": 103,
   "metadata": {},
   "outputs": [],
   "source": [
    "def saveToTestFolder(testDF, classname):\n",
    "    directory = \"Test Sets\"\n",
    "    filename = f\"{classname}.pkl\"\n",
    "    os.makedirs(directory, exist_ok=True)\n",
    "    filepath = os.path.join(directory, filename)\n",
    "    testDF.to_pickle(filepath)\n",
    "\n",
    "def saveToTrainingFolder(TrainingDF, classname):\n",
    "    directory = \"Training Sets\"\n",
    "    filename = f\"{classname}.pkl\"\n",
    "    os.makedirs(directory, exist_ok=True)\n",
    "    filepath = os.path.join(directory, filename)\n",
    "    TrainingDF.to_pickle(filepath)"
   ]
  },
  {
   "cell_type": "markdown",
   "metadata": {},
   "source": [
    "### $\\color{LightBlue}{\\text{Parsing the raw data in the \"Data\" directory}}$"
   ]
  },
  {
   "cell_type": "code",
   "execution_count": 104,
   "metadata": {},
   "outputs": [],
   "source": [
    "#Function to parse the data read into their respective arrays\n",
    "#Parameters:\n",
    "#acc_dfs: Array of accelerometer dataframes that were read and stored in this array\n",
    "#gscope_dfs: Array of Gyroscope dataframes that were read and stored in this array\n",
    "#data_classes: Array of classes of the different phone position (Circle, Down, Stand)\n",
    "def parseDataframes(acc_dfs, gscope_dfs, data_classes):\n",
    "    count = 0\n",
    "    for index, (acc_df, gscope_df) in enumerate(zip(acc_dfs, gscope_dfs)):\n",
    "        combinedDF = pd.concat([acc_df, gscope_df], axis=1)\n",
    "        if ((index + 1) % 3 == 0):\n",
    "            # Add to test set\n",
    "            combinedDF['Class'] = data_classes[count]\n",
    "            saveToTestFolder(combinedDF.dropna(), data_classes[count])\n",
    "            count += 1\n",
    "        else:\n",
    "            if(index % 3 == 0) or (index + 1) % 3 == 2:\n",
    "                if index % 3 == 0:\n",
    "                    trainingDF1 = combinedDF\n",
    "                else:\n",
    "                    trainingPair = pd.concat([trainingDF1, combinedDF], axis=0)\n",
    "                    trainingPair['Class'] = data_classes[count]\n",
    "                    saveToTrainingFolder(trainingPair.dropna(), data_classes[count])"
   ]
  },
  {
   "cell_type": "markdown",
   "metadata": {},
   "source": [
    "### $\\color{LightBlue}{\\text{Handling loading and unpickling of the data}}$"
   ]
  },
  {
   "cell_type": "code",
   "execution_count": 123,
   "metadata": {},
   "outputs": [],
   "source": [
    "# Function to load and unpickle the dataframe from test/training set\n",
    "# Parameters:\n",
    "# classname: The name of the class to unload (Circle, stand, down)\n",
    "# set_type: The type of set to unload from (training, test)\n",
    "def loadAndUnpickleDataFrame(classname, set_type):\n",
    "    cwd = os.getcwd()\n",
    "    directory = os.path.join(cwd, f\"{set_type} Sets\")\n",
    "    filename = f\"{classname}.pkl\"\n",
    "    filepath = os.path.join(directory, filename)\n",
    "    if os.path.exists(filepath):\n",
    "        df = pd.read_pickle(filepath)\n",
    "        print(f\"Loaded {set_type} set for class '{classname}'\")\n",
    "        return df\n",
    "    else:\n",
    "        print(f\"File not found: {filepath}\")\n",
    "        return None"
   ]
  },
  {
   "cell_type": "code",
   "execution_count": 125,
   "metadata": {},
   "outputs": [
    {
     "name": "stdout",
     "output_type": "stream",
     "text": [
      "Loaded Test set for class 'Stand'\n",
      "         ax        ay        az        gx        gy        gz  Class\n",
      "0 -0.250310  0.008188  0.097165 -0.006070  0.002143 -0.000360  Stand\n",
      "1  0.084499  0.008230  0.448811  0.004641  0.001180  0.001932  Stand\n",
      "2 -0.033411  0.020768 -0.326060  0.010362  0.001956  0.002378  Stand\n",
      "3  0.056965 -0.009253 -0.092608  0.009776 -0.000526  0.000177  Stand\n",
      "4 -0.052841 -0.022864  0.270670  0.004768  0.000565  0.000783  Stand\n",
      "            ax        ay        az        gx        gy        gz  Class\n",
      "1501  0.008888 -0.010723  0.006066 -0.000144  0.000456  0.000341  Stand\n",
      "1502 -0.008784 -0.011759 -0.007117 -0.000374  0.000183  0.000312  Stand\n",
      "1503 -0.000091 -0.001723  0.001169 -0.001905  0.000847 -0.000619  Stand\n",
      "1504 -0.005672  0.030169 -0.005682 -0.002512  0.001808  0.000669  Stand\n",
      "1505 -0.002458  0.022547  0.000892 -0.001550 -0.000020  0.000344  Stand\n"
     ]
    }
   ],
   "source": [
    "data_classes = ['Circle', 'Stand', 'Down']\n",
    "parseDataframes(acc_dfs=Acc_dataframes, gscope_dfs=Gscope_dataframes, data_classes=data_classes)\n",
    "\n",
    "df = loadAndUnpickleDataFrame('Stand', 'Test')\n",
    "\n",
    "print(df.head())\n",
    "print(df.tail())\n"
   ]
  }
 ],
 "metadata": {
  "kernelspec": {
   "display_name": "Python 3",
   "language": "python",
   "name": "python3"
  },
  "language_info": {
   "codemirror_mode": {
    "name": "ipython",
    "version": 3
   },
   "file_extension": ".py",
   "mimetype": "text/x-python",
   "name": "python",
   "nbconvert_exporter": "python",
   "pygments_lexer": "ipython3",
   "version": "3.9.18"
  }
 },
 "nbformat": 4,
 "nbformat_minor": 2
}
