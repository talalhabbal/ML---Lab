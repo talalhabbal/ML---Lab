{
 "cells": [
  {
   "cell_type": "markdown",
   "metadata": {},
   "source": [
    "Imports needed for the script"
   ]
  },
  {
   "cell_type": "code",
   "execution_count": 19,
   "metadata": {},
   "outputs": [],
   "source": [
    "import pandas as pd\n",
    "import numpy as np\n",
    "import matplotlib.pyplot as plt\n",
    "import os"
   ]
  },
  {
   "cell_type": "markdown",
   "metadata": {},
   "source": [
    "### File Input Handling"
   ]
  },
  {
   "cell_type": "code",
   "execution_count": 20,
   "metadata": {},
   "outputs": [],
   "source": [
    "#Files for the data to import\n",
    "Acc_files = ['Data/Acc_Circle_1.csv', 'Data/Acc_Circle_2.csv', 'Data/Acc_Circle_3.csv', 'Data/Acc_Stand_1.csv',\n",
    "            'Data/Acc_Stand_2.csv','Data/Acc_Stand_3.csv', 'Data/Acc_Down_1.csv', 'Data/Acc_Down_2.csv', 'Data/Acc_Down_3.csv']\n",
    "Gscope_files = ['Data/Gscope_Circle_1.csv', 'Data/Gscope_Circle_2.csv', 'Data/Gscope_Circle_3.csv', 'Data/Gscope_Stand_1.csv',\n",
    "            'Data/Gscope_Stand_2.csv','Data/Gscope_Stand_3.csv', 'Data/Gscope_Down_1.csv', 'Data/Gscope_Down_2.csv', 'Data/Gscope_Down_3.csv']\n",
    "\n",
    "#Empty list to append the data into\n",
    "Acc_dataframes = []\n",
    "Gscope_dataframes = []\n",
    "\n",
    "#Loop over every file and add it to the list for Accelerometer and Gscope\n",
    "for file in Acc_files:\n",
    "    Acc_dataframes.append(pd.read_csv(file, usecols=[1,2,3], names=['ax', 'ay', 'az'], skiprows=[0]))\n",
    "\n",
    "for file in Gscope_files:\n",
    "    Gscope_dataframes.append(pd.read_csv(file, usecols=[1,2,3], names=['gx', 'gy', 'gz'], skiprows=[0]))"
   ]
  },
  {
   "cell_type": "markdown",
   "metadata": {},
   "source": [
    "### $\\color{LightBlue}{\\text{Plotting the Accelerometer Data}}$"
   ]
  },
  {
   "cell_type": "code",
   "execution_count": null,
   "metadata": {},
   "outputs": [],
   "source": [
    "# Iterate over every file and plot the graph for it\n",
    "for i, acc_data in enumerate(Acc_dataframes):\n",
    "    filename = os.path.basename(Acc_files[i]) # Get the file name\n",
    "    measurement_type = filename.split('_')[1]\n",
    "    title = f\"Accelerometer Data - {measurement_type} Recording {i % 3 + 1}\" # Fix title for the graph\n",
    "    acc_data.plot(subplots=True, title=title, xlabel=\"Samples\", ylabel=\"Acceleration (g)\")\n",
    "    plt.show()"
   ]
  },
  {
   "cell_type": "markdown",
   "metadata": {},
   "source": [
    "### $\\color{LightBlue}{\\text{Plotting The Gyroscope Data}}$"
   ]
  },
  {
   "cell_type": "code",
   "execution_count": null,
   "metadata": {},
   "outputs": [],
   "source": [
    "# Iterate over every file and plot the graph for it\n",
    "for i, gscope_data in enumerate(Gscope_dataframes):\n",
    "    filename = os.path.basename(Gscope_files[i]) # Get the file name\n",
    "    measurement_type = filename.split('_')[1]\n",
    "    title = f\"Gyroscope Data - {measurement_type} Recording {i % 3 + 1}\" # Fix title for the graph\n",
    "    gscope_data.plot(subplots=True, title=title, xlabel=\"Samples\", ylabel=\"Rotation\")\n",
    "    plt.show()"
   ]
  },
  {
   "cell_type": "markdown",
   "metadata": {},
   "source": [
    "# Questions to Answer:"
   ]
  },
  {
   "cell_type": "markdown",
   "metadata": {},
   "source": [
    "### $\\color{LightBlue}{\\text{What are we measuring with the Accelerometer?}}$\n",
    "The accelerometer measures the vibration and motion of a structure."
   ]
  },
  {
   "cell_type": "markdown",
   "metadata": {},
   "source": [
    "### $\\color{LightBlue}{\\text{What are we measuring the with Gyroscope?}}$\n",
    "The gyroscope measures rotational motion."
   ]
  },
  {
   "cell_type": "markdown",
   "metadata": {},
   "source": [
    "### $\\color{LightBlue}{\\text{By looking at the plots can you see the difference between the the three classes?}}$"
   ]
  },
  {
   "cell_type": "markdown",
   "metadata": {},
   "source": [
    "### Accelerometer:\n",
    "Moving in a Circle: The phone was layed flat on the table and rotated around the Z-axis, the accelerometer detected movement on the X and Y axes but not on the Z since there is no movement on the Z axis.\n",
    "\n",
    "Standing Up: The phone was placed vertically standing up. The accelerometer didn't detect much movement on the X and Z axes, but movement on the Y-Axis was detected.\n",
    "\n",
    "Laying Down: The phone was layed down on its back on the table, small movement was detected due to small vibrations and movements around the phone.\n",
    "\n",
    "\n",
    "### Gyroscope:\n",
    "Moving in a Circle: The experiment was the same as the accelerometer. The gyroscope detected most of the rotations on the Z-axis but not much on the X and Y axes.\n",
    "\n",
    "Standing Up: No rotation on all axes.\n",
    "\n",
    "Laying Down: No rotation on all axes.\n"
   ]
  },
  {
   "cell_type": "code",
   "execution_count": null,
   "metadata": {},
   "outputs": [],
   "source": [
    "def mergeFiles():\n",
    "    pass\n",
    "\n",
    "def saveToTraining():\n",
    "    pass\n",
    "\n",
    "def saveToTest():\n",
    "    pass\n",
    "\n",
    "def loadFromTraining():\n",
    "    pass\n",
    "\n",
    "def loadFromTest():\n",
    "    pass\n",
    "\n"
   ]
  }
 ],
 "metadata": {
  "kernelspec": {
   "display_name": "Python 3",
   "language": "python",
   "name": "python3"
  },
  "language_info": {
   "codemirror_mode": {
    "name": "ipython",
    "version": 3
   },
   "file_extension": ".py",
   "mimetype": "text/x-python",
   "name": "python",
   "nbconvert_exporter": "python",
   "pygments_lexer": "ipython3",
   "version": "3.9.18"
  }
 },
 "nbformat": 4,
 "nbformat_minor": 2
}
